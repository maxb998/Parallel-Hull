{
 "cells": [
  {
   "cell_type": "code",
   "execution_count": null,
   "metadata": {},
   "outputs": [],
   "source": [
    "import numpy as np\n",
    "import matplotlib.pyplot as plt\n",
    "\n",
    "max_int = 10000000\n",
    "              \n",
    "num_points = 100\n",
    "clouds_count = 1\n",
    "\n",
    "pts_per_cloud = np.random.random(clouds_count+1)\n",
    "pts_per_cloud[-1] = 0\n",
    "pts_per_cloud = (pts_per_cloud / pts_per_cloud.sum()) * num_points\n",
    "pts_per_cloud = pts_per_cloud.round()\n",
    "pts_per_cloud[0] += num_points - pts_per_cloud.sum()\n",
    "pts_per_cloud = pts_per_cloud.astype(dtype=np.int64)\n",
    "\n",
    "x = np.zeros(num_points, dtype=np.float32)\n",
    "y = np.zeros(num_points, dtype=np.float32)\n",
    "\n",
    "\n",
    "# for i in range(clouds_count):\n",
    "#     if i == 0:\n",
    "#         start_pos = int(0)\n",
    "#     else:\n",
    "#         start_pos = pts_per_cloud[:i].sum()\n",
    "#     final_pos = start_pos + pts_per_cloud[i]\n",
    "\n",
    "#     mean_x, std_x = np.random.randint(max_int), np.random.randint(np.sqrt(pts_per_cloud[i])*10, max_int/10)\n",
    "#     mean_y, std_y = np.random.randint(max_int), np.random.randint(max(np.sqrt(pts_per_cloud[i]), std_x/4), min(max_int/10, std_x*4))\n",
    "\n",
    "#     mean_x, mean_y = 0, 0\n",
    "\n",
    "#     # print('mx=' + str(mean_x) + \"  stdx=\" + str(std_x) + \"  my=\" + str(mean_y) + \"  stdy=\" + str(std_y))\n",
    "\n",
    "#     x[start_pos:final_pos] = np.random.normal(mean_x, std_x, pts_per_cloud[i])\n",
    "#     y[start_pos:final_pos] = np.random.normal(mean_y, std_y, pts_per_cloud[i])\n",
    "\n",
    "theta = np.random.uniform(0,2*np.pi, num_points)\n",
    "radius = np.random.uniform(0,10000000000, num_points) ** 0.5\n",
    "\n",
    "x = radius * np.cos(theta)\n",
    "y = radius * np.sin(theta)\n",
    "\n",
    "\n",
    "x0mask = x == 0\n",
    "yx0mask = y[x0mask] == 0\n",
    "\n",
    "print(x[yx0mask])\n",
    "\n",
    "\n",
    "plt.scatter(x,y,s=1,marker='.')\n",
    "plt.show"
   ]
  },
  {
   "cell_type": "code",
   "execution_count": null,
   "metadata": {},
   "outputs": [],
   "source": [
    "# save points in file\n",
    "print(np.vstack((x,y)).transpose())\n",
    "np.savetxt(\"round_100_1.csv\", np.vstack((x,y)).transpose(), delimiter=\",\")"
   ]
  }
 ],
 "metadata": {
  "kernelspec": {
   "display_name": "Python 3",
   "language": "python",
   "name": "python3"
  },
  "language_info": {
   "codemirror_mode": {
    "name": "ipython",
    "version": 3
   },
   "file_extension": ".py",
   "mimetype": "text/x-python",
   "name": "python",
   "nbconvert_exporter": "python",
   "pygments_lexer": "ipython3",
   "version": "3.12.4"
  }
 },
 "nbformat": 4,
 "nbformat_minor": 2
}
